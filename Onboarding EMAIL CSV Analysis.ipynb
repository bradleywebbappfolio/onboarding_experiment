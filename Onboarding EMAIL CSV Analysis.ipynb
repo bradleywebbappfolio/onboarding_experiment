{
 "cells": [
  {
   "cell_type": "markdown",
   "metadata": {},
   "source": [
    "<p>\n",
    "    Sources: https://products.groupdocs.app/conversion/mbox-to-csv<br>\n",
    "    Sources: https://takeout.google.com/settings/takeout/downloads?pli=1\n",
    "</p>\n",
    "\n",
    "\n",
    "```python\n",
    "# control/experiment group membership computation\n",
    "import numpy as np\n",
    "import pandas as pd\n",
    "\n",
    "group = ['control', 'no-onboarding', 'DIY-onboarding']\n",
    "\n",
    "file = '~/Downloads/Copy_of_(#10310)_Maintenance_Experiments_2021_02_05.csv'\n",
    "\n",
    "df = pd.read_csv(file)\n",
    "df['GROUP'] = None\n",
    "\n",
    "group_assignment = np.random.choice(group, df.shape[0], p=[.85, .075, .075])\n",
    "# opt for non-uniform distribution because \n",
    "# we don't want to over expose potentially poor onboarding experience \n",
    "# for risk of experiements infact degrading long-term product attach or engagement\n",
    "\n",
    "for ix in df.index:\n",
    "    df.at[ix, 'GROUP'] = group_assignment[ix]\n",
    "\n",
    "df.to_csv('~/Downloads/group_assignment.csv', index=False)\n",
    "df['GROUP'].value_counts()\n",
    "\"\"\"\n",
    "control           1651\n",
    "no-onboarding      157\n",
    "DIY-onboarding     152\n",
    "\"\"\"\n",
    "```\n"
   ]
  },
  {
   "cell_type": "code",
   "execution_count": 100,
   "metadata": {},
   "outputs": [],
   "source": [
    "from csv import reader\n",
    "import pandas as pd\n",
    "import re\n",
    "import os"
   ]
  },
  {
   "cell_type": "code",
   "execution_count": 99,
   "metadata": {},
   "outputs": [],
   "source": [
    "directory = '/Users/bradley.webb/Downloads/converted/'\n",
    "file_count = 0\n",
    "for entry in os.scandir(directory):\n",
    "    file_count += 1"
   ]
  },
  {
   "cell_type": "code",
   "execution_count": 94,
   "metadata": {},
   "outputs": [],
   "source": [
    "data_fields = ['sent', 'name', 'email', 'user role', 'vhost', 'link']\n",
    "core_df = pd.DataFrame(columns=data_fields, index=range(file_count))"
   ]
  },
  {
   "cell_type": "code",
   "execution_count": 102,
   "metadata": {},
   "outputs": [],
   "source": [
    "group_file = '~/Downloads/group_assignment.csv'"
   ]
  },
  {
   "cell_type": "code",
   "execution_count": 103,
   "metadata": {},
   "outputs": [],
   "source": [
    "group_df = pd.read_csv(group_file)"
   ]
  },
  {
   "cell_type": "code",
   "execution_count": 104,
   "metadata": {},
   "outputs": [
    {
     "data": {
      "text/html": [
       "<div>\n",
       "<style scoped>\n",
       "    .dataframe tbody tr th:only-of-type {\n",
       "        vertical-align: middle;\n",
       "    }\n",
       "\n",
       "    .dataframe tbody tr th {\n",
       "        vertical-align: top;\n",
       "    }\n",
       "\n",
       "    .dataframe thead th {\n",
       "        text-align: right;\n",
       "    }\n",
       "</style>\n",
       "<table border=\"1\" class=\"dataframe\">\n",
       "  <thead>\n",
       "    <tr style=\"text-align: right;\">\n",
       "      <th></th>\n",
       "      <th>VHOST</th>\n",
       "      <th>GROUP</th>\n",
       "    </tr>\n",
       "  </thead>\n",
       "  <tbody>\n",
       "    <tr>\n",
       "      <th>0</th>\n",
       "      <td>aaimspm</td>\n",
       "      <td>control</td>\n",
       "    </tr>\n",
       "    <tr>\n",
       "      <th>1</th>\n",
       "      <td>agrentals</td>\n",
       "      <td>no-onboarding</td>\n",
       "    </tr>\n",
       "    <tr>\n",
       "      <th>2</th>\n",
       "      <td>alpinepropmgmt</td>\n",
       "      <td>control</td>\n",
       "    </tr>\n",
       "    <tr>\n",
       "      <th>3</th>\n",
       "      <td>andersoncrain</td>\n",
       "      <td>control</td>\n",
       "    </tr>\n",
       "    <tr>\n",
       "      <th>4</th>\n",
       "      <td>apg</td>\n",
       "      <td>no-onboarding</td>\n",
       "    </tr>\n",
       "    <tr>\n",
       "      <th>...</th>\n",
       "      <td>...</td>\n",
       "      <td>...</td>\n",
       "    </tr>\n",
       "    <tr>\n",
       "      <th>1955</th>\n",
       "      <td>remaxpeninsula</td>\n",
       "      <td>no-onboarding</td>\n",
       "    </tr>\n",
       "    <tr>\n",
       "      <th>1956</th>\n",
       "      <td>rentfrompeak</td>\n",
       "      <td>control</td>\n",
       "    </tr>\n",
       "    <tr>\n",
       "      <th>1957</th>\n",
       "      <td>rpmok001</td>\n",
       "      <td>control</td>\n",
       "    </tr>\n",
       "    <tr>\n",
       "      <th>1958</th>\n",
       "      <td>russellhosnerllc</td>\n",
       "      <td>DIY-onboarding</td>\n",
       "    </tr>\n",
       "    <tr>\n",
       "      <th>1959</th>\n",
       "      <td>signature</td>\n",
       "      <td>control</td>\n",
       "    </tr>\n",
       "  </tbody>\n",
       "</table>\n",
       "<p>1960 rows × 2 columns</p>\n",
       "</div>"
      ],
      "text/plain": [
       "                 VHOST           GROUP\n",
       "0              aaimspm         control\n",
       "1            agrentals   no-onboarding\n",
       "2       alpinepropmgmt         control\n",
       "3        andersoncrain         control\n",
       "4                  apg   no-onboarding\n",
       "...                ...             ...\n",
       "1955    remaxpeninsula   no-onboarding\n",
       "1956      rentfrompeak         control\n",
       "1957          rpmok001         control\n",
       "1958  russellhosnerllc  DIY-onboarding\n",
       "1959         signature         control\n",
       "\n",
       "[1960 rows x 2 columns]"
      ]
     },
     "execution_count": 104,
     "metadata": {},
     "output_type": "execute_result"
    }
   ],
   "source": [
    "group_df"
   ]
  },
  {
   "cell_type": "code",
   "execution_count": 84,
   "metadata": {},
   "outputs": [],
   "source": [
    "from_match = re.compile('from.*?')"
   ]
  },
  {
   "cell_type": "code",
   "execution_count": 97,
   "metadata": {},
   "outputs": [],
   "source": [
    "ix = 0\n",
    "for entry in os.scandir(directory):\n",
    "    with open(entry, 'r') as read_obj:\n",
    "        csv_reader = reader(read_obj)\n",
    "        for row in csv_reader:\n",
    "            for field in data_fields:\n",
    "                re_match = re.compile(field+'.*?')\n",
    "                if re_match.match(row[0].lower()):\n",
    "                    data_length = len(row[0]) - len(field) - len(':')\n",
    "                    datum = row[0][-data_length:].lstrip(' ')\n",
    "                    core_df.at[ix, field] = datum\n",
    "    ix += 1"
   ]
  },
  {
   "cell_type": "code",
   "execution_count": 108,
   "metadata": {},
   "outputs": [],
   "source": [
    "core_df = core_df.join(group_df.set_index('VHOST'), on='vhost')"
   ]
  },
  {
   "cell_type": "code",
   "execution_count": 109,
   "metadata": {},
   "outputs": [],
   "source": [
    "core_df.to_csv('~/Downloads/emails_received.csv', index=False)"
   ]
  }
 ],
 "metadata": {
  "kernelspec": {
   "display_name": "Python 3",
   "language": "python",
   "name": "python3"
  },
  "language_info": {
   "codemirror_mode": {
    "name": "ipython",
    "version": 3
   },
   "file_extension": ".py",
   "mimetype": "text/x-python",
   "name": "python",
   "nbconvert_exporter": "python",
   "pygments_lexer": "ipython3",
   "version": "3.8.3"
  }
 },
 "nbformat": 4,
 "nbformat_minor": 4
}
